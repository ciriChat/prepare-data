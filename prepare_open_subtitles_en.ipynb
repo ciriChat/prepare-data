{
 "cells": [
  {
   "cell_type": "code",
   "execution_count": null,
   "metadata": {},
   "outputs": [],
   "source": [
    "from unidecode import unidecode\n",
    "from nltk.tokenize import word_tokenize\n",
    "import os\n",
    "from tqdm import tqdm_notebook as tqdm\n",
    "total_lines = 61434251"
   ]
  },
  {
   "cell_type": "code",
   "execution_count": null,
   "metadata": {},
   "outputs": [],
   "source": [
    "raw_data_path = './raw_data/open_subtitles'\n",
    "prepared_data_path = './prepared_data/open_subtitles'\n",
    "if not os.path.exists(prepared_data_path):\n",
    "    os.makedirs(prepared_data_path)"
   ]
  },
  {
   "cell_type": "code",
   "execution_count": null,
   "metadata": {},
   "outputs": [],
   "source": [
    "# get special words from file\n",
    "special_words_path = os.path.join(raw_data_path, 'special_words.txt')\n",
    "if os.path.isfile(special_words_path):\n",
    "    special_words =  list(open(special_words_path, 'r').read().strip().split())\n",
    "else:\n",
    "    print(\"no special words file\")"
   ]
  },
  {
   "cell_type": "code",
   "execution_count": null,
   "metadata": {},
   "outputs": [],
   "source": [
    "def split_qa(source_path, dest_questions_path, dest_answers_path):\n",
    "    with open(source_path, 'r') as source, open(dest_questions_path, 'w') as questions, open(dest_answers_path, 'w') as answers:\n",
    "        pbar = tqdm(total = total_lines)\n",
    "        for line in source:\n",
    "            pbar.update(1)\n",
    "            if line.endswith('?\\n') or any(word in special_words for word in word_tokenize(line.lower())):\n",
    "                next_line = next(source)\n",
    "                pbar.update(1)\n",
    "                question = line.strip().replace('- ', '')\n",
    "                answer = next_line.strip().replace('- ', '')\n",
    "                questions.write(question + '\\n')\n",
    "                answers.write(answer + '\\n')\n",
    "                     "
   ]
  },
  {
   "cell_type": "code",
   "execution_count": null,
   "metadata": {},
   "outputs": [],
   "source": [
    "src = os.path.join(raw_data_path, 'OpenSubtitles2018.en-es.en')\n",
    "dest_q = os.path.join(prepared_data_path, 'subtitles_questions_english.txt')\n",
    "dest_a = os.path.join(prepared_data_path, 'subtitles_answers_english.txt')\n",
    "split_qa(src, dest_q, dest_a)"
   ]
  }
 ],
 "metadata": {
  "kernelspec": {
   "display_name": "Python 3",
   "language": "python",
   "name": "python3"
  },
  "language_info": {
   "codemirror_mode": {
    "name": "ipython",
    "version": 3
   },
   "file_extension": ".py",
   "mimetype": "text/x-python",
   "name": "python",
   "nbconvert_exporter": "python",
   "pygments_lexer": "ipython3",
   "version": "3.6.7"
  }
 },
 "nbformat": 4,
 "nbformat_minor": 2
}
