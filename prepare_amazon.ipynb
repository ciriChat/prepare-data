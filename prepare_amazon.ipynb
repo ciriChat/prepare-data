{
 "cells": [
  {
   "cell_type": "code",
   "execution_count": 25,
   "metadata": {},
   "outputs": [],
   "source": [
    "import json\n",
    "import pandas as pd\n",
    "import json\n",
    "import os\n",
    "from nltk import sent_tokenize\n",
    "from tqdm import tqdm_notebook as tqdm\n",
    "\n",
    "raw_data_path = './raw_data/amazon'\n",
    "prepared_data_path = './prepared_data/amazon'\n"
   ]
  },
  {
   "cell_type": "code",
   "execution_count": null,
   "metadata": {},
   "outputs": [],
   "source": [
    "def parse(path):\n",
    "    with open(path, 'r') as g:\n",
    "        for l in g:\n",
    "            yield json.dumps(eval(l))\n",
    "            \n",
    "def getDF(path):\n",
    "    i = 0\n",
    "    df = {}\n",
    "    for d in parse(path):\n",
    "        df[i] = d\n",
    "        i += 1\n",
    "    return pd.DataFrame.from_dict(df, orient='index')"
   ]
  },
  {
   "cell_type": "code",
   "execution_count": 37,
   "metadata": {},
   "outputs": [],
   "source": [
    "def find_question(question):\n",
    "    quest = question[0] # if there is no ? in questions, append\n",
    "    for q in question: #get real question\n",
    "        if '?' in q:\n",
    "            return q\n",
    "    return quest\n",
    "\n",
    "def process_single(single_dict):\n",
    "    question = sent_tokenize(single_dict['question'].split('\\n')[0])\n",
    "    question = find_question(question)\n",
    "    answer = sent_tokenize(single_dict['answer'].split('\\n')[0])\n",
    "    return question, answer\n",
    "\n",
    "def process_multi(multi_dict):\n",
    "    question = sent_tokenize(multi_dict['questionText'].split('\\n')[0])\n",
    "    question = find_question(question)\n",
    "    answer = sent_tokenize(multi_dict['answers'][0]['answerText'].split('\\n')[0]) \n",
    "    return question, answer\n",
    "\n",
    "def process(dirpath, single_answer=False):\n",
    "    files = os.listdir(dirpath)\n",
    "    questions = []\n",
    "    answers = []\n",
    "    for file in tqdm(files):\n",
    "        if not file.startswith('.'):\n",
    "            df = getDF(os.path.join(dirpath, file))\n",
    "            for j in df[0]:\n",
    "                d = json.loads(j)\n",
    "                if single_answer:\n",
    "                    question, answer = process_single(d)\n",
    "                    if answer:\n",
    "                        questions.append(question)\n",
    "                        answers.append(answer[0])  # get first sentence from answer\n",
    "                else:\n",
    "                    for k in d['questions']:\n",
    "                        question, answer = process_multi(k)\n",
    "                        if answer:\n",
    "                            questions.append(question)\n",
    "                            answers.append(answer[0])  \n",
    "                        \n",
    "    return questions, answers"
   ]
  },
  {
   "cell_type": "code",
   "execution_count": 38,
   "metadata": {},
   "outputs": [],
   "source": [
    "import os\n",
    "def write_sentence_to_file(path, sentences):\n",
    "    directory = os.path.dirname(os.path.abspath(path))\n",
    "    if not os.path.exists(directory):\n",
    "        os.makedirs(directory)\n",
    "    with open(path, 'w') as file_in:\n",
    "        for sent in sentences:\n",
    "            file_in.write(sent + '\\n')"
   ]
  },
  {
   "cell_type": "code",
   "execution_count": 39,
   "metadata": {},
   "outputs": [
    {
     "data": {
      "application/vnd.jupyter.widget-view+json": {
       "model_id": "5ce3266c08614d53911a2557a01314a2",
       "version_major": 2,
       "version_minor": 0
      },
      "text/plain": [
       "HBox(children=(IntProgress(value=0, max=22), HTML(value='')))"
      ]
     },
     "metadata": {},
     "output_type": "display_data"
    }
   ],
   "source": [
    "questions, answers = process(os.path.join(raw_data_path, 'singleanswer'), single_answer=True)\n",
    "write_sentence_to_file(os.path.join(prepared_data_path, 'singlequestion.txt'), questions)\n",
    "write_sentence_to_file(os.path.join(prepared_data_path, 'singleanswer.txt'), answers)"
   ]
  },
  {
   "cell_type": "code",
   "execution_count": 40,
   "metadata": {},
   "outputs": [
    {
     "data": {
      "application/vnd.jupyter.widget-view+json": {
       "model_id": "b46e703ade054a479c7ec17caa439318",
       "version_major": 2,
       "version_minor": 0
      },
      "text/plain": [
       "HBox(children=(IntProgress(value=0, max=18), HTML(value='')))"
      ]
     },
     "metadata": {},
     "output_type": "display_data"
    }
   ],
   "source": [
    "multi_questions, multi_answers = process(os.path.join(raw_data_path, 'multianswers'))\n",
    "write_sentence_to_file(os.path.join(prepared_data_path, 'multiquestion.txt'), multi_questions)\n",
    "write_sentence_to_file(os.path.join(prepared_data_path, 'multianswers.txt'), multi_answers)"
   ]
  },
  {
   "cell_type": "code",
   "execution_count": null,
   "metadata": {},
   "outputs": [],
   "source": []
  }
 ],
 "metadata": {
  "kernelspec": {
   "display_name": "Python 3",
   "language": "python",
   "name": "python3"
  },
  "language_info": {
   "codemirror_mode": {
    "name": "ipython",
    "version": 3
   },
   "file_extension": ".py",
   "mimetype": "text/x-python",
   "name": "python",
   "nbconvert_exporter": "python",
   "pygments_lexer": "ipython3",
   "version": "3.6.7"
  }
 },
 "nbformat": 4,
 "nbformat_minor": 2
}
