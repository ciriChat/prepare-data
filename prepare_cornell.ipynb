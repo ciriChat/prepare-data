{
 "cells": [
  {
   "cell_type": "code",
   "execution_count": 4,
   "metadata": {},
   "outputs": [],
   "source": [
    "import json\n",
    "from tqdm import tqdm_notebook as tqdm\n",
    "import os\n",
    "raw_data_path = './raw_data/cornell'\n",
    "prepared_data_path = './prepared_data/cornell'"
   ]
  },
  {
   "cell_type": "code",
   "execution_count": 5,
   "metadata": {},
   "outputs": [],
   "source": [
    "def load_lines(file_path):\n",
    "    lines_dict = {}\n",
    "    with open(file_path, 'r', encoding='iso-8859-1') as file:  # TODO: Solve Iso encoding pb !\n",
    "        for line in file:\n",
    "            splitted = line.split(' +++$+++ ')\n",
    "            \n",
    "            line_id = splitted[0]\n",
    "            character_id = splitted[1]\n",
    "            text = splitted[4]\n",
    "            \n",
    "            lines_dict[line_id] = text\n",
    "\n",
    "    return lines_dict\n",
    "\n",
    "def load_conversations(file_path, lines):\n",
    "    \n",
    "    conversations = []\n",
    "\n",
    "    with open(file_path, 'r', encoding='iso-8859-1') as file:\n",
    "        for line in file:\n",
    "            values = line.split(' +++$+++ ')\n",
    "            line_ids = json.loads(values[3].replace(\"'\", '\"'))\n",
    "            \n",
    "            conversation = []\n",
    "            for line_id in line_ids:\n",
    "                conversation.append(lines[line_id])\n",
    "            conversations.append(conversation)\n",
    "        \n",
    "    return conversations\n",
    "\n",
    "def merge_q_and_a(conversations):\n",
    "    \n",
    "    merged = {}\n",
    "    for conversation in conversations:\n",
    "        # Iterate over all the lines of the conversation\n",
    "        for i in range(len(conversation) - 1):  # We ignore the last line (no answer for it)\n",
    "            question = conversation[i].strip()\n",
    "            answer = conversation[i+1].strip()\n",
    "\n",
    "            if question and answer:  # Filter wrong samples (if one of the list is empty)\n",
    "                merged[question] = answer\n",
    "\n",
    "    return merged\n",
    "\n"
   ]
  },
  {
   "cell_type": "code",
   "execution_count": 7,
   "metadata": {},
   "outputs": [],
   "source": [
    "lines = load_lines(os.path.join(raw_data_path, 'movie_lines.txt'))\n",
    "conversations = load_conversations(os.path.join(raw_data_path, 'movie_conversations.txt'), lines)\n",
    "merged = merge_q_and_a(conversations)"
   ]
  },
  {
   "cell_type": "code",
   "execution_count": 8,
   "metadata": {},
   "outputs": [
    {
     "data": {
      "application/vnd.jupyter.widget-view+json": {
       "model_id": "405d68d566ba48dcaebbb71f1fbffc96",
       "version_major": 2,
       "version_minor": 0
      },
      "text/plain": [
       "HBox(children=(IntProgress(value=0, max=193725), HTML(value='')))"
      ]
     },
     "metadata": {},
     "output_type": "display_data"
    },
    {
     "name": "stdout",
     "output_type": "stream",
     "text": [
      "\n"
     ]
    }
   ],
   "source": [
    "if not os.path.exists(prepared_data_path):\n",
    "    os.makedirs(prepared_data_path)\n",
    "with open(os.path.join(prepared_data_path, 'questions_cornell.txt'), 'w') as q_file, open(os.path.join(prepared_data_path, 'answers_cornell.txt'), 'w') as a_file:\n",
    "    for question, answer in tqdm(merged.items()):\n",
    "        q_file.write(question + '\\n')\n",
    "        a_file.write(answer + '\\n')"
   ]
  },
  {
   "cell_type": "code",
   "execution_count": null,
   "metadata": {},
   "outputs": [],
   "source": []
  }
 ],
 "metadata": {
  "kernelspec": {
   "display_name": "Python 3",
   "language": "python",
   "name": "python3"
  },
  "language_info": {
   "codemirror_mode": {
    "name": "ipython",
    "version": 3
   },
   "file_extension": ".py",
   "mimetype": "text/x-python",
   "name": "python",
   "nbconvert_exporter": "python",
   "pygments_lexer": "ipython3",
   "version": "3.6.7"
  }
 },
 "nbformat": 4,
 "nbformat_minor": 2
}
