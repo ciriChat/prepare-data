{
 "cells": [
  {
   "cell_type": "code",
   "execution_count": 18,
   "metadata": {},
   "outputs": [],
   "source": [
    "import json\n",
    "from nltk import sent_tokenize\n",
    "from tqdm import tqdm_notebook as tqdm\n",
    "import os\n",
    "raw_data_path = './raw_data/nfl'\n",
    "prepared_data_path = './prepared_data/nfl'"
   ]
  },
  {
   "cell_type": "code",
   "execution_count": 14,
   "metadata": {},
   "outputs": [],
   "source": [
    "def parse(data):\n",
    "    merged = {}\n",
    "    for d in tqdm(data):\n",
    "        try:\n",
    "            if d['nbestanswers']:\n",
    "                merged[d['question'].replace('\\n', ' ').strip()] = sent_tokenize(min(d['nbestanswers'], key=len))[0].replace('\\n', ' ').strip()\n",
    "            else:\n",
    "                merged[d['question'].replace('\\n', ' ').strip()] = sent_tokenize(d['answer'])[0].replace('\\n', ' ').strip()\n",
    "        except Exception:\n",
    "            continue\n",
    "            \n",
    "    return merged"
   ]
  },
  {
   "cell_type": "code",
   "execution_count": 15,
   "metadata": {},
   "outputs": [
    {
     "data": {
      "application/vnd.jupyter.widget-view+json": {
       "model_id": "92f618299efa4564a67b3e01c4792ace",
       "version_major": 2,
       "version_minor": 0
      },
      "text/plain": [
       "HBox(children=(IntProgress(value=0, max=87362), HTML(value='')))"
      ]
     },
     "metadata": {},
     "output_type": "display_data"
    },
    {
     "name": "stdout",
     "output_type": "stream",
     "text": [
      "\n"
     ]
    }
   ],
   "source": [
    "with open(os.path.join(raw_data_path, 'nfL6.json')) as f:\n",
    "    data = json.load(f)\n",
    "merged = parse(data)\n"
   ]
  },
  {
   "cell_type": "code",
   "execution_count": 19,
   "metadata": {},
   "outputs": [
    {
     "data": {
      "application/vnd.jupyter.widget-view+json": {
       "model_id": "c852808c38834146ad318e8eb4cc14ba",
       "version_major": 2,
       "version_minor": 0
      },
      "text/plain": [
       "HBox(children=(IntProgress(value=0, max=85850), HTML(value='')))"
      ]
     },
     "metadata": {},
     "output_type": "display_data"
    },
    {
     "name": "stdout",
     "output_type": "stream",
     "text": [
      "\n"
     ]
    }
   ],
   "source": [
    "if not os.path.exists(prepared_data_path):\n",
    "    os.makedirs(prepared_data_path)\n",
    "with open(os.path.join(prepared_data_path, 'questions_nfl.txt'), 'w') as q_file, open(os.path.join(prepared_data_path, 'answers_nfl.txt'), 'w') as a_file:\n",
    "    for question, answer in tqdm(merged.items()):\n",
    "        q_file.write(question + '\\n')\n",
    "        a_file.write(answer + '\\n')"
   ]
  },
  {
   "cell_type": "code",
   "execution_count": 17,
   "metadata": {},
   "outputs": [
    {
     "data": {
      "text/plain": [
       "'./prepared_data'"
      ]
     },
     "execution_count": 17,
     "metadata": {},
     "output_type": "execute_result"
    }
   ],
   "source": [
    "directory"
   ]
  },
  {
   "cell_type": "code",
   "execution_count": null,
   "metadata": {},
   "outputs": [],
   "source": []
  }
 ],
 "metadata": {
  "kernelspec": {
   "display_name": "Python 3",
   "language": "python",
   "name": "python3"
  },
  "language_info": {
   "codemirror_mode": {
    "name": "ipython",
    "version": 3
   },
   "file_extension": ".py",
   "mimetype": "text/x-python",
   "name": "python",
   "nbconvert_exporter": "python",
   "pygments_lexer": "ipython3",
   "version": "3.6.7"
  }
 },
 "nbformat": 4,
 "nbformat_minor": 2
}
